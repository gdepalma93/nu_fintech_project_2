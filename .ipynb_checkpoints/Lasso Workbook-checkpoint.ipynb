{
 "cells": [
  {
   "cell_type": "code",
   "execution_count": 69,
   "metadata": {},
   "outputs": [],
   "source": [
    "import requests\n",
    "import matplotlib.pyplot as plt\n",
    "import pandas as pd\n",
    "import datetime"
   ]
  },
  {
   "cell_type": "code",
   "execution_count": 70,
   "metadata": {},
   "outputs": [],
   "source": [
    "from sklearn.linear_model import Lasso\n",
    "from sklearn.model_selection import cross_val_score\n",
    "from sklearn.linear_model import LinearRegression\n",
    "from sklearn.preprocessing import StandardScaler\n",
    "from sklearn.decomposition import PCA\n",
    "from sklearn.cluster import KMeans\n",
    "import hvplot.pandas"
   ]
  },
  {
   "cell_type": "code",
   "execution_count": 71,
   "metadata": {},
   "outputs": [],
   "source": [
    "from sklearn.preprocessing import MinMaxScaler\n",
    "from sklearn.preprocessing import minmax_scale\n",
    "from sklearn.preprocessing import MaxAbsScaler\n",
    "from sklearn.preprocessing import StandardScaler\n",
    "from sklearn.preprocessing import RobustScaler\n",
    "from sklearn.preprocessing import Normalizer\n",
    "from sklearn.preprocessing import QuantileTransformer\n",
    "from sklearn.preprocessing import PowerTransformer"
   ]
  },
  {
   "cell_type": "code",
   "execution_count": 95,
   "metadata": {},
   "outputs": [],
   "source": [
    "from sklearn.model_selection import train_test_split"
   ]
  },
  {
   "cell_type": "code",
   "execution_count": 72,
   "metadata": {},
   "outputs": [],
   "source": [
    "def calc_nvt(symbol):\n",
    "    # Get Into The Block blockchain data from CryptoCompare API\n",
    "    url = 'https://min-api.cryptocompare.com/data/blockchain/histo/day?api_key=015b242e7bed3700ca69182009d5c7af87bf6b83f7c5a0e12eb5a9b01bee3fb0&limit=2000&fsym=' + symbol\n",
    "    data = requests.get(url).json()[\"Data\"][\"Data\"]\n",
    "    df = pd.DataFrame(data) \n",
    "    \n",
    "    # Calculate \n",
    "    df['nvt'] = df['current_supply'] / df['transaction_count'] / df['average_transaction_value']\n",
    "    \n",
    "    # Get pricing data from CryptoCompare API\n",
    "    price_url = 'https://min-api.cryptocompare.com/data/v2/histoday?tsym=USD&limit=2000&api_key=faffd9561a88b875387fb603ac0763ee8f7ed54814e1d601358bd2657947280a&fsym=' + symbol\n",
    "    histo_data = requests.get(price_url).json()[\"Data\"][\"Data\"]\n",
    "    \n",
    "    df_price = pd.DataFrame(histo_data)\n",
    "    \n",
    "    combined = df.set_index('time').join(df_price.set_index('time'), on='time')\n",
    "    \n",
    "    return combined"
   ]
  },
  {
   "cell_type": "code",
   "execution_count": 73,
   "metadata": {},
   "outputs": [],
   "source": [
    "btc_df = calc_nvt('BTC')"
   ]
  },
  {
   "cell_type": "code",
   "execution_count": 74,
   "metadata": {},
   "outputs": [
    {
     "data": {
      "text/html": [
       "<div>\n",
       "<style scoped>\n",
       "    .dataframe tbody tr th:only-of-type {\n",
       "        vertical-align: middle;\n",
       "    }\n",
       "\n",
       "    .dataframe tbody tr th {\n",
       "        vertical-align: top;\n",
       "    }\n",
       "\n",
       "    .dataframe thead th {\n",
       "        text-align: right;\n",
       "    }\n",
       "</style>\n",
       "<table border=\"1\" class=\"dataframe\">\n",
       "  <thead>\n",
       "    <tr style=\"text-align: right;\">\n",
       "      <th></th>\n",
       "      <th>active_addresses</th>\n",
       "      <th>average_transaction_value</th>\n",
       "      <th>block_height</th>\n",
       "      <th>block_size</th>\n",
       "      <th>block_time</th>\n",
       "      <th>current_supply</th>\n",
       "      <th>difficulty</th>\n",
       "      <th>hashrate</th>\n",
       "      <th>id</th>\n",
       "      <th>large_transaction_count</th>\n",
       "      <th>...</th>\n",
       "      <th>zero_balance_addresses_all_time</th>\n",
       "      <th>nvt</th>\n",
       "      <th>close</th>\n",
       "      <th>conversionSymbol</th>\n",
       "      <th>conversionType</th>\n",
       "      <th>high</th>\n",
       "      <th>low</th>\n",
       "      <th>open</th>\n",
       "      <th>volumefrom</th>\n",
       "      <th>volumeto</th>\n",
       "    </tr>\n",
       "    <tr>\n",
       "      <th>time</th>\n",
       "      <th></th>\n",
       "      <th></th>\n",
       "      <th></th>\n",
       "      <th></th>\n",
       "      <th></th>\n",
       "      <th></th>\n",
       "      <th></th>\n",
       "      <th></th>\n",
       "      <th></th>\n",
       "      <th></th>\n",
       "      <th></th>\n",
       "      <th></th>\n",
       "      <th></th>\n",
       "      <th></th>\n",
       "      <th></th>\n",
       "      <th></th>\n",
       "      <th></th>\n",
       "      <th></th>\n",
       "      <th></th>\n",
       "      <th></th>\n",
       "      <th></th>\n",
       "    </tr>\n",
       "  </thead>\n",
       "  <tbody>\n",
       "    <tr>\n",
       "      <th>1424304000</th>\n",
       "      <td>214089</td>\n",
       "      <td>7.526654</td>\n",
       "      <td>344285</td>\n",
       "      <td>315926</td>\n",
       "      <td>518.175758</td>\n",
       "      <td>1.385714e+07</td>\n",
       "      <td>4.445542e+10</td>\n",
       "      <td>368474.508691</td>\n",
       "      <td>1182</td>\n",
       "      <td>153</td>\n",
       "      <td>...</td>\n",
       "      <td>57913794</td>\n",
       "      <td>19.471567</td>\n",
       "      <td>241.92</td>\n",
       "      <td></td>\n",
       "      <td>direct</td>\n",
       "      <td>244.11</td>\n",
       "      <td>234.87</td>\n",
       "      <td>235.20</td>\n",
       "      <td>66053.23</td>\n",
       "      <td>15852470.09</td>\n",
       "    </tr>\n",
       "    <tr>\n",
       "      <th>1424390400</th>\n",
       "      <td>247984</td>\n",
       "      <td>8.039311</td>\n",
       "      <td>344443</td>\n",
       "      <td>382549</td>\n",
       "      <td>547.242038</td>\n",
       "      <td>1.386109e+07</td>\n",
       "      <td>4.445542e+10</td>\n",
       "      <td>348903.308508</td>\n",
       "      <td>1182</td>\n",
       "      <td>163</td>\n",
       "      <td>...</td>\n",
       "      <td>58034380</td>\n",
       "      <td>17.466254</td>\n",
       "      <td>244.52</td>\n",
       "      <td></td>\n",
       "      <td>direct</td>\n",
       "      <td>247.76</td>\n",
       "      <td>238.83</td>\n",
       "      <td>241.92</td>\n",
       "      <td>83584.59</td>\n",
       "      <td>20434846.70</td>\n",
       "    </tr>\n",
       "    <tr>\n",
       "      <th>1424476800</th>\n",
       "      <td>271658</td>\n",
       "      <td>7.018058</td>\n",
       "      <td>344585</td>\n",
       "      <td>401512</td>\n",
       "      <td>607.411348</td>\n",
       "      <td>1.386464e+07</td>\n",
       "      <td>4.445542e+10</td>\n",
       "      <td>314341.440061</td>\n",
       "      <td>1182</td>\n",
       "      <td>165</td>\n",
       "      <td>...</td>\n",
       "      <td>58137834</td>\n",
       "      <td>22.493840</td>\n",
       "      <td>244.41</td>\n",
       "      <td></td>\n",
       "      <td>direct</td>\n",
       "      <td>247.32</td>\n",
       "      <td>242.65</td>\n",
       "      <td>244.52</td>\n",
       "      <td>42952.95</td>\n",
       "      <td>10570761.56</td>\n",
       "    </tr>\n",
       "    <tr>\n",
       "      <th>1424563200</th>\n",
       "      <td>272262</td>\n",
       "      <td>5.586223</td>\n",
       "      <td>344736</td>\n",
       "      <td>356274</td>\n",
       "      <td>565.373333</td>\n",
       "      <td>1.386841e+07</td>\n",
       "      <td>4.447018e+10</td>\n",
       "      <td>337826.257171</td>\n",
       "      <td>1182</td>\n",
       "      <td>102</td>\n",
       "      <td>...</td>\n",
       "      <td>58236917</td>\n",
       "      <td>29.227123</td>\n",
       "      <td>235.73</td>\n",
       "      <td></td>\n",
       "      <td>direct</td>\n",
       "      <td>246.54</td>\n",
       "      <td>232.72</td>\n",
       "      <td>244.41</td>\n",
       "      <td>75700.07</td>\n",
       "      <td>18107359.63</td>\n",
       "    </tr>\n",
       "    <tr>\n",
       "      <th>1424649600</th>\n",
       "      <td>250127</td>\n",
       "      <td>8.197847</td>\n",
       "      <td>344878</td>\n",
       "      <td>404722</td>\n",
       "      <td>604.319149</td>\n",
       "      <td>1.387196e+07</td>\n",
       "      <td>4.668438e+10</td>\n",
       "      <td>331791.355392</td>\n",
       "      <td>1182</td>\n",
       "      <td>144</td>\n",
       "      <td>...</td>\n",
       "      <td>58357408</td>\n",
       "      <td>16.668939</td>\n",
       "      <td>238.82</td>\n",
       "      <td></td>\n",
       "      <td>direct</td>\n",
       "      <td>240.06</td>\n",
       "      <td>231.33</td>\n",
       "      <td>235.73</td>\n",
       "      <td>62672.06</td>\n",
       "      <td>14856549.49</td>\n",
       "    </tr>\n",
       "  </tbody>\n",
       "</table>\n",
       "<p>5 rows × 25 columns</p>\n",
       "</div>"
      ],
      "text/plain": [
       "            active_addresses  average_transaction_value  block_height  \\\n",
       "time                                                                    \n",
       "1424304000            214089                   7.526654        344285   \n",
       "1424390400            247984                   8.039311        344443   \n",
       "1424476800            271658                   7.018058        344585   \n",
       "1424563200            272262                   5.586223        344736   \n",
       "1424649600            250127                   8.197847        344878   \n",
       "\n",
       "            block_size  block_time  current_supply    difficulty  \\\n",
       "time                                                               \n",
       "1424304000      315926  518.175758    1.385714e+07  4.445542e+10   \n",
       "1424390400      382549  547.242038    1.386109e+07  4.445542e+10   \n",
       "1424476800      401512  607.411348    1.386464e+07  4.445542e+10   \n",
       "1424563200      356274  565.373333    1.386841e+07  4.447018e+10   \n",
       "1424649600      404722  604.319149    1.387196e+07  4.668438e+10   \n",
       "\n",
       "                 hashrate    id  large_transaction_count  ...  \\\n",
       "time                                                      ...   \n",
       "1424304000  368474.508691  1182                      153  ...   \n",
       "1424390400  348903.308508  1182                      163  ...   \n",
       "1424476800  314341.440061  1182                      165  ...   \n",
       "1424563200  337826.257171  1182                      102  ...   \n",
       "1424649600  331791.355392  1182                      144  ...   \n",
       "\n",
       "            zero_balance_addresses_all_time        nvt   close  \\\n",
       "time                                                             \n",
       "1424304000                         57913794  19.471567  241.92   \n",
       "1424390400                         58034380  17.466254  244.52   \n",
       "1424476800                         58137834  22.493840  244.41   \n",
       "1424563200                         58236917  29.227123  235.73   \n",
       "1424649600                         58357408  16.668939  238.82   \n",
       "\n",
       "            conversionSymbol  conversionType    high     low    open  \\\n",
       "time                                                                   \n",
       "1424304000                            direct  244.11  234.87  235.20   \n",
       "1424390400                            direct  247.76  238.83  241.92   \n",
       "1424476800                            direct  247.32  242.65  244.52   \n",
       "1424563200                            direct  246.54  232.72  244.41   \n",
       "1424649600                            direct  240.06  231.33  235.73   \n",
       "\n",
       "           volumefrom     volumeto  \n",
       "time                                \n",
       "1424304000   66053.23  15852470.09  \n",
       "1424390400   83584.59  20434846.70  \n",
       "1424476800   42952.95  10570761.56  \n",
       "1424563200   75700.07  18107359.63  \n",
       "1424649600   62672.06  14856549.49  \n",
       "\n",
       "[5 rows x 25 columns]"
      ]
     },
     "execution_count": 74,
     "metadata": {},
     "output_type": "execute_result"
    }
   ],
   "source": [
    "btc_df.head()"
   ]
  },
  {
   "cell_type": "code",
   "execution_count": 75,
   "metadata": {},
   "outputs": [
    {
     "data": {
      "text/plain": [
       "Index(['active_addresses', 'average_transaction_value', 'block_height',\n",
       "       'block_size', 'block_time', 'current_supply', 'difficulty', 'hashrate',\n",
       "       'id', 'large_transaction_count', 'new_addresses', 'symbol',\n",
       "       'transaction_count', 'transaction_count_all_time',\n",
       "       'unique_addresses_all_time', 'zero_balance_addresses_all_time', 'nvt',\n",
       "       'close', 'conversionSymbol', 'conversionType', 'high', 'low', 'open',\n",
       "       'volumefrom', 'volumeto'],\n",
       "      dtype='object')"
      ]
     },
     "execution_count": 75,
     "metadata": {},
     "output_type": "execute_result"
    }
   ],
   "source": [
    "btc_df.columns"
   ]
  },
  {
   "cell_type": "code",
   "execution_count": 76,
   "metadata": {},
   "outputs": [
    {
     "data": {
      "text/plain": [
       "<matplotlib.axes._subplots.AxesSubplot at 0x7f83cd62a650>"
      ]
     },
     "execution_count": 76,
     "metadata": {},
     "output_type": "execute_result"
    },
    {
     "data": {
      "image/png": "[encoded data removed]",
      "text/plain": [
       "<Figure size 432x288 with 1 Axes>"
      ]
     },
     "metadata": {
      "needs_background": "light"
     },
     "output_type": "display_data"
    }
   ],
   "source": [
    "coin_list = ['BTC', 'LTC']\n",
    "nvt_df = pd.DataFrame()\n",
    "for coin in coin_list:\n",
    "    df = calc_nvt(coin)\n",
    "    nvt_df[coin] = df['nvt']\n",
    "nvt_df.plot()"
   ]
  },
  {
   "cell_type": "code",
   "execution_count": 77,
   "metadata": {},
   "outputs": [],
   "source": [
    "btc_df.reset_index(inplace = True)"
   ]
  },
  {
   "cell_type": "code",
   "execution_count": 78,
   "metadata": {},
   "outputs": [
    {
     "data": {
      "text/html": [
       "<div>\n",
       "<style scoped>\n",
       "    .dataframe tbody tr th:only-of-type {\n",
       "        vertical-align: middle;\n",
       "    }\n",
       "\n",
       "    .dataframe tbody tr th {\n",
       "        vertical-align: top;\n",
       "    }\n",
       "\n",
       "    .dataframe thead th {\n",
       "        text-align: right;\n",
       "    }\n",
       "</style>\n",
       "<table border=\"1\" class=\"dataframe\">\n",
       "  <thead>\n",
       "    <tr style=\"text-align: right;\">\n",
       "      <th></th>\n",
       "      <th>time</th>\n",
       "      <th>active_addresses</th>\n",
       "      <th>average_transaction_value</th>\n",
       "      <th>block_height</th>\n",
       "      <th>block_size</th>\n",
       "      <th>block_time</th>\n",
       "      <th>current_supply</th>\n",
       "      <th>difficulty</th>\n",
       "      <th>hashrate</th>\n",
       "      <th>id</th>\n",
       "      <th>...</th>\n",
       "      <th>zero_balance_addresses_all_time</th>\n",
       "      <th>nvt</th>\n",
       "      <th>close</th>\n",
       "      <th>conversionSymbol</th>\n",
       "      <th>conversionType</th>\n",
       "      <th>high</th>\n",
       "      <th>low</th>\n",
       "      <th>open</th>\n",
       "      <th>volumefrom</th>\n",
       "      <th>volumeto</th>\n",
       "    </tr>\n",
       "  </thead>\n",
       "  <tbody>\n",
       "    <tr>\n",
       "      <th>0</th>\n",
       "      <td>2015-02-19</td>\n",
       "      <td>214089</td>\n",
       "      <td>7.526654</td>\n",
       "      <td>344285</td>\n",
       "      <td>315926</td>\n",
       "      <td>518.175758</td>\n",
       "      <td>1.385714e+07</td>\n",
       "      <td>4.445542e+10</td>\n",
       "      <td>368474.508691</td>\n",
       "      <td>1182</td>\n",
       "      <td>...</td>\n",
       "      <td>57913794</td>\n",
       "      <td>19.471567</td>\n",
       "      <td>241.92</td>\n",
       "      <td></td>\n",
       "      <td>direct</td>\n",
       "      <td>244.11</td>\n",
       "      <td>234.87</td>\n",
       "      <td>235.20</td>\n",
       "      <td>66053.23</td>\n",
       "      <td>15852470.09</td>\n",
       "    </tr>\n",
       "    <tr>\n",
       "      <th>1</th>\n",
       "      <td>2015-02-20</td>\n",
       "      <td>247984</td>\n",
       "      <td>8.039311</td>\n",
       "      <td>344443</td>\n",
       "      <td>382549</td>\n",
       "      <td>547.242038</td>\n",
       "      <td>1.386109e+07</td>\n",
       "      <td>4.445542e+10</td>\n",
       "      <td>348903.308508</td>\n",
       "      <td>1182</td>\n",
       "      <td>...</td>\n",
       "      <td>58034380</td>\n",
       "      <td>17.466254</td>\n",
       "      <td>244.52</td>\n",
       "      <td></td>\n",
       "      <td>direct</td>\n",
       "      <td>247.76</td>\n",
       "      <td>238.83</td>\n",
       "      <td>241.92</td>\n",
       "      <td>83584.59</td>\n",
       "      <td>20434846.70</td>\n",
       "    </tr>\n",
       "  </tbody>\n",
       "</table>\n",
       "<p>2 rows × 26 columns</p>\n",
       "</div>"
      ],
      "text/plain": [
       "        time  active_addresses  average_transaction_value  block_height  \\\n",
       "0 2015-02-19            214089                   7.526654        344285   \n",
       "1 2015-02-20            247984                   8.039311        344443   \n",
       "\n",
       "   block_size  block_time  current_supply    difficulty       hashrate    id  \\\n",
       "0      315926  518.175758    1.385714e+07  4.445542e+10  368474.508691  1182   \n",
       "1      382549  547.242038    1.386109e+07  4.445542e+10  348903.308508  1182   \n",
       "\n",
       "   ...  zero_balance_addresses_all_time        nvt   close  conversionSymbol  \\\n",
       "0  ...                         57913794  19.471567  241.92                     \n",
       "1  ...                         58034380  17.466254  244.52                     \n",
       "\n",
       "   conversionType    high     low    open  volumefrom     volumeto  \n",
       "0          direct  244.11  234.87  235.20    66053.23  15852470.09  \n",
       "1          direct  247.76  238.83  241.92    83584.59  20434846.70  \n",
       "\n",
       "[2 rows x 26 columns]"
      ]
     },
     "execution_count": 78,
     "metadata": {},
     "output_type": "execute_result"
    }
   ],
   "source": [
    "btc_df['time'] = pd.to_datetime(btc_df['time'], unit = 's')\n",
    "btc_df.head(2)"
   ]
  },
  {
   "cell_type": "code",
   "execution_count": 79,
   "metadata": {},
   "outputs": [
    {
     "data": {
      "text/plain": [
       "Index(['time', 'active_addresses', 'average_transaction_value', 'block_height',\n",
       "       'block_size', 'block_time', 'current_supply', 'difficulty', 'hashrate',\n",
       "       'id', 'large_transaction_count', 'new_addresses', 'symbol',\n",
       "       'transaction_count', 'transaction_count_all_time',\n",
       "       'unique_addresses_all_time', 'zero_balance_addresses_all_time', 'nvt',\n",
       "       'close', 'conversionSymbol', 'conversionType', 'high', 'low', 'open',\n",
       "       'volumefrom', 'volumeto'],\n",
       "      dtype='object')"
      ]
     },
     "execution_count": 79,
     "metadata": {},
     "output_type": "execute_result"
    }
   ],
   "source": [
    "btc_df.columns"
   ]
  },
  {
   "cell_type": "code",
   "execution_count": 80,
   "metadata": {},
   "outputs": [],
   "source": [
    "btc_df.drop(columns=['id', 'zero_balance_addresses_all_time', 'unique_addresses_all_time', 'block_height', 'block_time', 'current_supply', 'high', 'low', 'open', 'volumefrom', 'volumeto', 'conversionType', 'conversionSymbol'], inplace = True)"
   ]
  },
  {
   "cell_type": "code",
   "execution_count": 81,
   "metadata": {},
   "outputs": [
    {
     "data": {
      "text/html": [
       "<div>\n",
       "<style scoped>\n",
       "    .dataframe tbody tr th:only-of-type {\n",
       "        vertical-align: middle;\n",
       "    }\n",
       "\n",
       "    .dataframe tbody tr th {\n",
       "        vertical-align: top;\n",
       "    }\n",
       "\n",
       "    .dataframe thead th {\n",
       "        text-align: right;\n",
       "    }\n",
       "</style>\n",
       "<table border=\"1\" class=\"dataframe\">\n",
       "  <thead>\n",
       "    <tr style=\"text-align: right;\">\n",
       "      <th></th>\n",
       "      <th>time</th>\n",
       "      <th>active_addresses</th>\n",
       "      <th>average_transaction_value</th>\n",
       "      <th>block_size</th>\n",
       "      <th>difficulty</th>\n",
       "      <th>hashrate</th>\n",
       "      <th>large_transaction_count</th>\n",
       "      <th>new_addresses</th>\n",
       "      <th>symbol</th>\n",
       "      <th>transaction_count</th>\n",
       "      <th>transaction_count_all_time</th>\n",
       "      <th>nvt</th>\n",
       "      <th>close</th>\n",
       "    </tr>\n",
       "  </thead>\n",
       "  <tbody>\n",
       "    <tr>\n",
       "      <th>0</th>\n",
       "      <td>2015-02-19</td>\n",
       "      <td>214089</td>\n",
       "      <td>7.526654</td>\n",
       "      <td>315926</td>\n",
       "      <td>4.445542e+10</td>\n",
       "      <td>368474.508691</td>\n",
       "      <td>153</td>\n",
       "      <td>116454</td>\n",
       "      <td>BTC</td>\n",
       "      <td>94552</td>\n",
       "      <td>60156816</td>\n",
       "      <td>19.471567</td>\n",
       "      <td>241.92</td>\n",
       "    </tr>\n",
       "    <tr>\n",
       "      <th>1</th>\n",
       "      <td>2015-02-20</td>\n",
       "      <td>247984</td>\n",
       "      <td>8.039311</td>\n",
       "      <td>382549</td>\n",
       "      <td>4.445542e+10</td>\n",
       "      <td>348903.308508</td>\n",
       "      <td>163</td>\n",
       "      <td>125050</td>\n",
       "      <td>BTC</td>\n",
       "      <td>98714</td>\n",
       "      <td>60255530</td>\n",
       "      <td>17.466254</td>\n",
       "      <td>244.52</td>\n",
       "    </tr>\n",
       "  </tbody>\n",
       "</table>\n",
       "</div>"
      ],
      "text/plain": [
       "        time  active_addresses  average_transaction_value  block_size  \\\n",
       "0 2015-02-19            214089                   7.526654      315926   \n",
       "1 2015-02-20            247984                   8.039311      382549   \n",
       "\n",
       "     difficulty       hashrate  large_transaction_count  new_addresses symbol  \\\n",
       "0  4.445542e+10  368474.508691                      153         116454    BTC   \n",
       "1  4.445542e+10  348903.308508                      163         125050    BTC   \n",
       "\n",
       "   transaction_count  transaction_count_all_time        nvt   close  \n",
       "0              94552                    60156816  19.471567  241.92  \n",
       "1              98714                    60255530  17.466254  244.52  "
      ]
     },
     "execution_count": 81,
     "metadata": {},
     "output_type": "execute_result"
    }
   ],
   "source": [
    "btc_df.head(2)"
   ]
  },
  {
   "cell_type": "code",
   "execution_count": 82,
   "metadata": {},
   "outputs": [],
   "source": [
    "btc_df.set_index(\"time\", drop=True, inplace=True)"
   ]
  },
  {
   "cell_type": "code",
   "execution_count": 83,
   "metadata": {},
   "outputs": [],
   "source": [
    "#Saving raw dataframe in case of unexpected later need\n",
    "btc_df_preserved = btc_df"
   ]
  },
  {
   "cell_type": "code",
   "execution_count": 84,
   "metadata": {},
   "outputs": [],
   "source": [
    "#Adding Returns\n",
    "btc_df['returns']= btc_df_preserved['close'].pct_change()"
   ]
  },
  {
   "cell_type": "code",
   "execution_count": 85,
   "metadata": {},
   "outputs": [],
   "source": [
    "#Computing SMA for Mayer \n",
    "btc_df['sma200'] = btc_df.close.rolling(window=200).mean()"
   ]
  },
  {
   "cell_type": "code",
   "execution_count": 86,
   "metadata": {},
   "outputs": [],
   "source": [
    "#Adding Mayer Multiple to df\n",
    "btc_df['mayer_multiple'] = btc_df.close / btc_df.sma200"
   ]
  },
  {
   "cell_type": "code",
   "execution_count": 87,
   "metadata": {},
   "outputs": [
    {
     "data": {
      "text/html": [
       "<div>\n",
       "<style scoped>\n",
       "    .dataframe tbody tr th:only-of-type {\n",
       "        vertical-align: middle;\n",
       "    }\n",
       "\n",
       "    .dataframe tbody tr th {\n",
       "        vertical-align: top;\n",
       "    }\n",
       "\n",
       "    .dataframe thead th {\n",
       "        text-align: right;\n",
       "    }\n",
       "</style>\n",
       "<table border=\"1\" class=\"dataframe\">\n",
       "  <thead>\n",
       "    <tr style=\"text-align: right;\">\n",
       "      <th></th>\n",
       "      <th>active_addresses</th>\n",
       "      <th>average_transaction_value</th>\n",
       "      <th>block_size</th>\n",
       "      <th>difficulty</th>\n",
       "      <th>hashrate</th>\n",
       "      <th>large_transaction_count</th>\n",
       "      <th>new_addresses</th>\n",
       "      <th>symbol</th>\n",
       "      <th>transaction_count</th>\n",
       "      <th>transaction_count_all_time</th>\n",
       "      <th>nvt</th>\n",
       "      <th>close</th>\n",
       "      <th>returns</th>\n",
       "      <th>sma200</th>\n",
       "      <th>mayer_multiple</th>\n",
       "    </tr>\n",
       "    <tr>\n",
       "      <th>time</th>\n",
       "      <th></th>\n",
       "      <th></th>\n",
       "      <th></th>\n",
       "      <th></th>\n",
       "      <th></th>\n",
       "      <th></th>\n",
       "      <th></th>\n",
       "      <th></th>\n",
       "      <th></th>\n",
       "      <th></th>\n",
       "      <th></th>\n",
       "      <th></th>\n",
       "      <th></th>\n",
       "      <th></th>\n",
       "      <th></th>\n",
       "    </tr>\n",
       "  </thead>\n",
       "  <tbody>\n",
       "    <tr>\n",
       "      <th>2015-09-06</th>\n",
       "      <td>294550</td>\n",
       "      <td>9.168903</td>\n",
       "      <td>411318</td>\n",
       "      <td>5.695765e+10</td>\n",
       "      <td>409551.687554</td>\n",
       "      <td>348</td>\n",
       "      <td>137930</td>\n",
       "      <td>BTC</td>\n",
       "      <td>106293</td>\n",
       "      <td>82622956</td>\n",
       "      <td>14.963920</td>\n",
       "      <td>239.86</td>\n",
       "      <td>0.026490</td>\n",
       "      <td>250.50325</td>\n",
       "      <td>0.957513</td>\n",
       "    </tr>\n",
       "    <tr>\n",
       "      <th>2015-09-07</th>\n",
       "      <td>318282</td>\n",
       "      <td>8.268704</td>\n",
       "      <td>477577</td>\n",
       "      <td>5.695765e+10</td>\n",
       "      <td>435286.899237</td>\n",
       "      <td>259</td>\n",
       "      <td>172928</td>\n",
       "      <td>BTC</td>\n",
       "      <td>125467</td>\n",
       "      <td>82748423</td>\n",
       "      <td>14.060916</td>\n",
       "      <td>239.58</td>\n",
       "      <td>-0.001167</td>\n",
       "      <td>250.49155</td>\n",
       "      <td>0.956439</td>\n",
       "    </tr>\n",
       "  </tbody>\n",
       "</table>\n",
       "</div>"
      ],
      "text/plain": [
       "            active_addresses  average_transaction_value  block_size  \\\n",
       "time                                                                  \n",
       "2015-09-06            294550                   9.168903      411318   \n",
       "2015-09-07            318282                   8.268704      477577   \n",
       "\n",
       "              difficulty       hashrate  large_transaction_count  \\\n",
       "time                                                               \n",
       "2015-09-06  5.695765e+10  409551.687554                      348   \n",
       "2015-09-07  5.695765e+10  435286.899237                      259   \n",
       "\n",
       "            new_addresses symbol  transaction_count  \\\n",
       "time                                                  \n",
       "2015-09-06         137930    BTC             106293   \n",
       "2015-09-07         172928    BTC             125467   \n",
       "\n",
       "            transaction_count_all_time        nvt   close   returns  \\\n",
       "time                                                                  \n",
       "2015-09-06                    82622956  14.963920  239.86  0.026490   \n",
       "2015-09-07                    82748423  14.060916  239.58 -0.001167   \n",
       "\n",
       "               sma200  mayer_multiple  \n",
       "time                                   \n",
       "2015-09-06  250.50325        0.957513  \n",
       "2015-09-07  250.49155        0.956439  "
      ]
     },
     "execution_count": 87,
     "metadata": {},
     "output_type": "execute_result"
    }
   ],
   "source": [
    "#Dropping nulls\n",
    "btc_df = btc_df.dropna()\n",
    "btc_df.head(2)"
   ]
  },
  {
   "cell_type": "code",
   "execution_count": 64,
   "metadata": {},
   "outputs": [
    {
     "data": {
      "text/plain": [
       "(1801, 15)"
      ]
     },
     "execution_count": 64,
     "metadata": {},
     "output_type": "execute_result"
    }
   ],
   "source": [
    "#Identifying shape to confirm \"feature\" set and \"y\" set matches later\n",
    "btc_df.shape"
   ]
  },
  {
   "cell_type": "code",
   "execution_count": 90,
   "metadata": {},
   "outputs": [],
   "source": [
    "#drop unnecessary columns\n",
    "X = btc_df.drop(columns=['close', 'symbol', 'returns'])"
   ]
  },
  {
   "cell_type": "code",
   "execution_count": 92,
   "metadata": {},
   "outputs": [],
   "source": [
    "y = btc_df['returns'].values.reshape(-1,1)"
   ]
  },
  {
   "cell_type": "markdown",
   "metadata": {},
   "source": [
    "# Applying Train-Test splits and Scalers to X & y sets"
   ]
  },
  {
   "cell_type": "code",
   "execution_count": 97,
   "metadata": {},
   "outputs": [],
   "source": [
    "X_train,X_test,y_train,y_test=train_test_split(X,y, test_size=0.3, random_state=31)"
   ]
  },
  {
   "cell_type": "markdown",
   "metadata": {},
   "source": [
    "### MinMax Scaler Output"
   ]
  },
  {
   "cell_type": "code",
   "execution_count": 98,
   "metadata": {},
   "outputs": [],
   "source": [
    "mm_scaler = MinMaxScaler()"
   ]
  },
  {
   "cell_type": "code",
   "execution_count": 100,
   "metadata": {},
   "outputs": [],
   "source": [
    "X_train_mm_scaled = pd.DataFrame(mm_scaler.fit_transform(X_train),columns = X_train.columns, index = X_train.index)"
   ]
  },
  {
   "cell_type": "code",
   "execution_count": 101,
   "metadata": {},
   "outputs": [
    {
     "data": {
      "text/html": [
       "<div>\n",
       "<style scoped>\n",
       "    .dataframe tbody tr th:only-of-type {\n",
       "        vertical-align: middle;\n",
       "    }\n",
       "\n",
       "    .dataframe tbody tr th {\n",
       "        vertical-align: top;\n",
       "    }\n",
       "\n",
       "    .dataframe thead th {\n",
       "        text-align: right;\n",
       "    }\n",
       "</style>\n",
       "<table border=\"1\" class=\"dataframe\">\n",
       "  <thead>\n",
       "    <tr style=\"text-align: right;\">\n",
       "      <th></th>\n",
       "      <th>active_addresses</th>\n",
       "      <th>average_transaction_value</th>\n",
       "      <th>block_size</th>\n",
       "      <th>difficulty</th>\n",
       "      <th>hashrate</th>\n",
       "      <th>large_transaction_count</th>\n",
       "      <th>new_addresses</th>\n",
       "      <th>transaction_count</th>\n",
       "      <th>transaction_count_all_time</th>\n",
       "      <th>nvt</th>\n",
       "      <th>sma200</th>\n",
       "      <th>mayer_multiple</th>\n",
       "    </tr>\n",
       "    <tr>\n",
       "      <th>time</th>\n",
       "      <th></th>\n",
       "      <th></th>\n",
       "      <th></th>\n",
       "      <th></th>\n",
       "      <th></th>\n",
       "      <th></th>\n",
       "      <th></th>\n",
       "      <th></th>\n",
       "      <th></th>\n",
       "      <th></th>\n",
       "      <th></th>\n",
       "      <th></th>\n",
       "    </tr>\n",
       "  </thead>\n",
       "  <tbody>\n",
       "    <tr>\n",
       "      <th>2016-11-09</th>\n",
       "      <td>0.346378</td>\n",
       "      <td>0.025436</td>\n",
       "      <td>0.499096</td>\n",
       "      <td>0.011433</td>\n",
       "      <td>0.010873</td>\n",
       "      <td>0.064234</td>\n",
       "      <td>0.311285</td>\n",
       "      <td>0.430272</td>\n",
       "      <td>0.183215</td>\n",
       "      <td>0.134498</td>\n",
       "      <td>0.034919</td>\n",
       "      <td>0.217686</td>\n",
       "    </tr>\n",
       "    <tr>\n",
       "      <th>2018-08-28</th>\n",
       "      <td>0.398119</td>\n",
       "      <td>0.019418</td>\n",
       "      <td>0.487637</td>\n",
       "      <td>0.385810</td>\n",
       "      <td>0.368976</td>\n",
       "      <td>0.124448</td>\n",
       "      <td>0.310029</td>\n",
       "      <td>0.347464</td>\n",
       "      <td>0.538404</td>\n",
       "      <td>0.208828</td>\n",
       "      <td>0.759839</td>\n",
       "      <td>0.120608</td>\n",
       "    </tr>\n",
       "    <tr>\n",
       "      <th>2016-11-18</th>\n",
       "      <td>0.358139</td>\n",
       "      <td>0.012949</td>\n",
       "      <td>0.538126</td>\n",
       "      <td>0.012463</td>\n",
       "      <td>0.011627</td>\n",
       "      <td>0.029105</td>\n",
       "      <td>0.325966</td>\n",
       "      <td>0.445332</td>\n",
       "      <td>0.188212</td>\n",
       "      <td>0.229535</td>\n",
       "      <td>0.036107</td>\n",
       "      <td>0.223371</td>\n",
       "    </tr>\n",
       "    <tr>\n",
       "      <th>2019-11-14</th>\n",
       "      <td>0.492213</td>\n",
       "      <td>0.005907</td>\n",
       "      <td>0.585185</td>\n",
       "      <td>0.732434</td>\n",
       "      <td>0.772628</td>\n",
       "      <td>0.169203</td>\n",
       "      <td>0.394009</td>\n",
       "      <td>0.636742</td>\n",
       "      <td>0.827242</td>\n",
       "      <td>0.344456</td>\n",
       "      <td>0.897960</td>\n",
       "      <td>0.130699</td>\n",
       "    </tr>\n",
       "    <tr>\n",
       "      <th>2019-02-11</th>\n",
       "      <td>0.450042</td>\n",
       "      <td>0.016345</td>\n",
       "      <td>0.690721</td>\n",
       "      <td>0.347305</td>\n",
       "      <td>0.308782</td>\n",
       "      <td>0.114458</td>\n",
       "      <td>0.335566</td>\n",
       "      <td>0.548145</td>\n",
       "      <td>0.631749</td>\n",
       "      <td>0.183078</td>\n",
       "      <td>0.509853</td>\n",
       "      <td>0.049795</td>\n",
       "    </tr>\n",
       "  </tbody>\n",
       "</table>\n",
       "</div>"
      ],
      "text/plain": [
       "            active_addresses  average_transaction_value  block_size  \\\n",
       "time                                                                  \n",
       "2016-11-09          0.346378                   0.025436    0.499096   \n",
       "2018-08-28          0.398119                   0.019418    0.487637   \n",
       "2016-11-18          0.358139                   0.012949    0.538126   \n",
       "2019-11-14          0.492213                   0.005907    0.585185   \n",
       "2019-02-11          0.450042                   0.016345    0.690721   \n",
       "\n",
       "            difficulty  hashrate  large_transaction_count  new_addresses  \\\n",
       "time                                                                       \n",
       "2016-11-09    0.011433  0.010873                 0.064234       0.311285   \n",
       "2018-08-28    0.385810  0.368976                 0.124448       0.310029   \n",
       "2016-11-18    0.012463  0.011627                 0.029105       0.325966   \n",
       "2019-11-14    0.732434  0.772628                 0.169203       0.394009   \n",
       "2019-02-11    0.347305  0.308782                 0.114458       0.335566   \n",
       "\n",
       "            transaction_count  transaction_count_all_time       nvt    sma200  \\\n",
       "time                                                                            \n",
       "2016-11-09           0.430272                    0.183215  0.134498  0.034919   \n",
       "2018-08-28           0.347464                    0.538404  0.208828  0.759839   \n",
       "2016-11-18           0.445332                    0.188212  0.229535  0.036107   \n",
       "2019-11-14           0.636742                    0.827242  0.344456  0.897960   \n",
       "2019-02-11           0.548145                    0.631749  0.183078  0.509853   \n",
       "\n",
       "            mayer_multiple  \n",
       "time                        \n",
       "2016-11-09        0.217686  \n",
       "2018-08-28        0.120608  \n",
       "2016-11-18        0.223371  \n",
       "2019-11-14        0.130699  \n",
       "2019-02-11        0.049795  "
      ]
     },
     "execution_count": 101,
     "metadata": {},
     "output_type": "execute_result"
    }
   ],
   "source": [
    "X_train_mm_scaled.head()"
   ]
  },
  {
   "cell_type": "code",
   "execution_count": 103,
   "metadata": {},
   "outputs": [],
   "source": [
    "y_train_mm_scaled = mm_scaler.fit_transform(y_train)"
   ]
  },
  {
   "cell_type": "code",
   "execution_count": 128,
   "metadata": {},
   "outputs": [
    {
     "name": "stdout",
     "output_type": "stream",
     "text": [
      "[-0.          0.          0.          0.          0.         -0.0271021\n",
      "  0.         -0.          0.01251674  0.          0.          0.07870067]\n"
     ]
    },
    {
     "data": {
      "image/png": "[encoded data removed]",
      "text/plain": [
       "<Figure size 432x288 with 1 Axes>"
      ]
     },
     "metadata": {
      "needs_background": "light"
     },
     "output_type": "display_data"
    }
   ],
   "source": [
    "lasso = Lasso(alpha=0.00003,normalize=True)\n",
    "# Fit the regressor to the data\n",
    "lasso.fit(X_train_mm_scaled,y_train_mm_scaled)\n",
    "# Compute and print the coefficients\n",
    "lasso_coef = lasso.coef_\n",
    "print(lasso_coef)\n",
    "# Plot the coefficients\n",
    "plt.plot(range(len(X_train_mm_scaled.columns)), lasso_coef)\n",
    "plt.xticks(range(len(X_train_mm_scaled.columns)), X_train_mm_scaled.columns.values, rotation=75)\n",
    "plt.margins(0.01)\n",
    "plt.show()"
   ]
  },
  {
   "cell_type": "markdown",
   "metadata": {},
   "source": [
    "### Std Scaler Output"
   ]
  },
  {
   "cell_type": "code",
   "execution_count": 115,
   "metadata": {},
   "outputs": [],
   "source": [
    "ss_scaler = StandardScaler()"
   ]
  },
  {
   "cell_type": "code",
   "execution_count": 116,
   "metadata": {},
   "outputs": [],
   "source": [
    "X_train_ss_scaled = pd.DataFrame(ss_scaler.fit_transform(X_train),columns = X_train.columns, index = X_train.index)"
   ]
  },
  {
   "cell_type": "code",
   "execution_count": 117,
   "metadata": {},
   "outputs": [],
   "source": [
    "y_train_ss_scaled = ss_scaler.fit_transform(y_train)"
   ]
  },
  {
   "cell_type": "code",
   "execution_count": 135,
   "metadata": {},
   "outputs": [
    {
     "name": "stdout",
     "output_type": "stream",
     "text": [
      "[-0.09135294  0.00677076  0.         -0.         -0.01830966 -0.10795857\n",
      "  0.05111628  0.          0.0974714  -0.02568263  0.07726596  0.2125574 ]\n"
     ]
    },
    {
     "data": {
      "image/png": "[encoded data removed]",
      "text/plain": [
       "<Figure size 432x288 with 1 Axes>"
      ]
     },
     "metadata": {
      "needs_background": "light"
     },
     "output_type": "display_data"
    }
   ],
   "source": [
    "lasso = Lasso(alpha=0.0001,normalize=True)\n",
    "# Fit the regressor to the data\n",
    "lasso.fit(X_train_ss_scaled,y_train_ss_scaled)\n",
    "# Compute and print the coefficients\n",
    "lasso_coef = lasso.coef_\n",
    "print(lasso_coef)\n",
    "# Plot the coefficients\n",
    "plt.plot(range(len(X_train_ss_scaled.columns)), lasso_coef)\n",
    "plt.xticks(range(len(X_train_ss_scaled.columns)), X_train_ss_scaled.columns.values, rotation=75)\n",
    "plt.margins(0.01)\n",
    "plt.show()"
   ]
  },
  {
   "cell_type": "code",
   "execution_count": null,
   "metadata": {},
   "outputs": [],
   "source": [
    "# "
   ]
  }
 ],
 "metadata": {
  "kernelspec": {
   "display_name": "Python 3",
   "language": "python",
   "name": "python3"
  },
  "language_info": {
   "codemirror_mode": {
    "name": "ipython",
    "version": 3
   },
   "file_extension": ".py",
   "mimetype": "text/x-python",
   "name": "python",
   "nbconvert_exporter": "python",
   "pygments_lexer": "ipython3",
   "version": "3.7.7"
  }
 },
 "nbformat": 4,
 "nbformat_minor": 4
}
