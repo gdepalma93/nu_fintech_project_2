{
 "cells": [
  {
   "cell_type": "code",
   "execution_count": 7,
   "metadata": {},
   "outputs": [],
   "source": [
    "import requests\n",
    "import matplotlib.pyplot as plt\n",
    "import pandas as pd\n",
    "import datetime\n",
    "import quandl"
   ]
  },
  {
   "cell_type": "code",
   "execution_count": 8,
   "metadata": {},
   "outputs": [],
   "source": [
    "from sklearn.linear_model import Lasso\n",
    "from sklearn.model_selection import cross_val_score\n",
    "from sklearn.linear_model import LinearRegression\n",
    "from sklearn.preprocessing import StandardScaler\n",
    "from sklearn.decomposition import PCA\n",
    "from sklearn.cluster import KMeans\n",
    "import hvplot.pandas\n",
    "from sklearn.model_selection import train_test_split\n",
    "from sklearn.preprocessing import MinMaxScaler"
   ]
  },
  {
   "cell_type": "code",
   "execution_count": 9,
   "metadata": {},
   "outputs": [],
   "source": [
    "import numpy as np\n",
    "import os\n",
    "from dotenv import load_dotenv\n",
    "from pathlib import Path"
   ]
  },
  {
   "cell_type": "code",
   "execution_count": 10,
   "metadata": {},
   "outputs": [
    {
     "data": {
      "text/plain": [
       "True"
      ]
     },
     "execution_count": 10,
     "metadata": {},
     "output_type": "execute_result"
    }
   ],
   "source": [
    "env_path = Path(\"/Users/dave\")/'dave_api_keys.env'\n",
    "load_dotenv(env_path)"
   ]
  },
  {
   "cell_type": "code",
   "execution_count": 11,
   "metadata": {},
   "outputs": [],
   "source": [
    "q_api = os.getenv(\"QUANDL_API_KEY\")"
   ]
  },
  {
   "cell_type": "code",
   "execution_count": 12,
   "metadata": {},
   "outputs": [],
   "source": [
    "#coin_list = ['BTC', 'LTC']\n",
    "#nvt_df = pd.DataFrame()\n",
    "#for coin in coin_list:\n",
    "    #df = calc_nvt(coin)\n",
    "    #nvt_df[coin] = df['nvt']\n",
    "#nvt_df.head()"
   ]
  },
  {
   "cell_type": "code",
   "execution_count": 13,
   "metadata": {},
   "outputs": [],
   "source": [
    "request_url = \"https://www.quandl.com/api/v3/datasets/WIKI/MSFT.json?api_key=\""
   ]
  },
  {
   "cell_type": "code",
   "execution_count": 14,
   "metadata": {},
   "outputs": [],
   "source": [
    "def calc_nvt(symbol):\n",
    "    # Get Into The Block blockchain data from CryptoCompare API\n",
    "    url = 'https://min-api.cryptocompare.com/data/blockchain/histo/day?api_key=015b242e7bed3700ca69182009d5c7af87bf6b83f7c5a0e12eb5a9b01bee3fb0&limit=2000&fsym=' + symbol\n",
    "    data = requests.get(url).json()[\"Data\"][\"Data\"]\n",
    "    df = pd.DataFrame(data) \n",
    "    \n",
    "    # Calculate \n",
    "    df['nvt'] = df['current_supply'] / df['transaction_count'] / df['average_transaction_value']\n",
    "    \n",
    "    # Get pricing data from CryptoCompare API\n",
    "    price_url = 'https://min-api.cryptocompare.com/data/v2/histoday?tsym=USD&limit=2000&api_key=015b242e7bed3700ca69182009d5c7af87bf6b83f7c5a0e12eb5a9b01bee3fb0&fsym=' + symbol\n",
    "    histo_data = requests.get(price_url).json()[\"Data\"][\"Data\"]\n",
    "    \n",
    "    df_price = pd.DataFrame(histo_data)\n",
    "    \n",
    "    combined = df.set_index('time').join(df_price.set_index('time'), on='time')\n",
    "    \n",
    "    return combined"
   ]
  },
  {
   "cell_type": "code",
   "execution_count": 15,
   "metadata": {},
   "outputs": [],
   "source": [
    "df = calc_nvt('BTC')"
   ]
  },
  {
   "cell_type": "code",
   "execution_count": 16,
   "metadata": {},
   "outputs": [
    {
     "data": {
      "text/plain": [
       "(2000, 25)"
      ]
     },
     "execution_count": 16,
     "metadata": {},
     "output_type": "execute_result"
    }
   ],
   "source": [
    "df.shape"
   ]
  },
  {
   "cell_type": "code",
   "execution_count": 28,
   "metadata": {},
   "outputs": [],
   "source": [
    "def calc_btc_df():\n",
    "    btc_df = calc_nvt('BTC')\n",
    "    btc_df.reset_index(inplace = True)\n",
    "    btc_df['time'] = pd.to_datetime(btc_df['time'], unit = 's')\n",
    "    btc_df.drop(columns=['id', 'zero_balance_addresses_all_time', 'block_height', 'block_time', 'high', 'low', 'open', 'volumefrom', 'volumeto', 'conversionType', 'conversionSymbol'], inplace = True)\n",
    "    btc_df.set_index(\"time\", drop=True, inplace=True)\n",
    "    btc_df['returns']= btc_df['close'].pct_change() \n",
    "    btc_df['sma200'] = btc_df.close.rolling(window=200).mean()\n",
    "    btc_df['mayer_multiple'] = btc_df.close / btc_df.sma200\n",
    "    \n",
    "    quandl_mining_df = quandl.get(\"BITCOINWATCH/MINING\", api_key=q_api)\n",
    "    market_cap = pd.DataFrame(quandl_mining_df['Market Cap'])\n",
    "    market_cap.reset_index(inplace=True)\n",
    "    market_cap['time'] = market_cap['Date']\n",
    "    market_cap.drop(columns='Date',inplace=True)\n",
    "    market_cap.set_index('time', inplace=True)\n",
    "        \n",
    "    #mining_operating_margin = quandl.get(\"BCHAIN/MIOPM\", api_key=q_api)\n",
    "    #mining_operating_margin.columns = ['mining_op_margin']\n",
    "    #mining_operating_margin.reset_index(inplace=True)\n",
    "    #mining_operating_margin['time'] = mining_operating_margin['Date']\n",
    "    #mining_operating_margin.drop(columns='Date', inplace=True)\n",
    "    #mining_operating_margin.set_index('time', inplace=True)\n",
    "    #\n",
    "    rev = quandl.get(\"BCHAIN/MIREV\", api_key=q_api)\n",
    "    rev.columns = ['miners_rev']\n",
    "    rev.reset_index(inplace=True)\n",
    "    rev['time'] = rev['Date']\n",
    "    rev.drop(columns='Date', inplace=True)\n",
    "    rev.set_index('time', inplace=True)\n",
    "    #\n",
    "    btc_df1 = pd.merge(btc_df, market_cap, on=['time'], how='left')\n",
    "    #btc_df2 = pd.merge(btc_df1, mining_operating_margin, on=['time'], how='left')\n",
    "    btc_df3 = pd.merge(btc_df1, rev, on='time', how='left')\n",
    "    \n",
    "    btc_df3['address_growth'] = btc_df3['new_addresses']/btc_df3['unique_addresses_all_time']\n",
    "    btc_df3['perc_mined'] = btc_df3['current_supply']/21000000\n",
    "    btc_df3['price_change_1d'] = btc_df3['close'].pct_change(1)\n",
    "    btc_df3['price_change_7d'] = btc_df3['close'].pct_change(7)\n",
    "    btc_df3['price_change_30d'] = btc_df3['close'].pct_change(30)\n",
    "    btc_df3.drop(columns=['block_size', 'average_transaction_value', 'difficulty', 'hashrate', 'symbol', 'sma200', 'transaction_count', \n",
    "                         'transaction_count_all_time', 'unique_addresses_all_time'], inplace=True)\n",
    "    btc_df3 = btc_df3.dropna()\n",
    "    return btc_df3"
   ]
  },
  {
   "cell_type": "code",
   "execution_count": 29,
   "metadata": {},
   "outputs": [],
   "source": [
    "btc_df = calc_btc_df()"
   ]
  },
  {
   "cell_type": "code",
   "execution_count": 17,
   "metadata": {},
   "outputs": [
    {
     "data": {
      "text/plain": [
       "(221, 16)"
      ]
     },
     "execution_count": 17,
     "metadata": {},
     "output_type": "execute_result"
    }
   ],
   "source": [
    "#Identifying shape to confirm \"feature\" set and \"y\" set matches later\n",
    "btc_df.shape"
   ]
  },
  {
   "cell_type": "code",
   "execution_count": null,
   "metadata": {},
   "outputs": [],
   "source": [
    "#drop unnecessary columns\n",
    "X = btc_df.drop(columns=['close', 'returns'])"
   ]
  },
  {
   "cell_type": "code",
   "execution_count": null,
   "metadata": {},
   "outputs": [],
   "source": [
    "y = btc_df['returns'].values.reshape(-1,1)"
   ]
  },
  {
   "cell_type": "markdown",
   "metadata": {},
   "source": [
    "# Applying Train-Test splits and Different Scalers to X & y sets"
   ]
  },
  {
   "cell_type": "code",
   "execution_count": null,
   "metadata": {},
   "outputs": [],
   "source": [
    "X_train,X_test,y_train,y_test=train_test_split(X,y, test_size=0.3, random_state=31)"
   ]
  },
  {
   "cell_type": "markdown",
   "metadata": {},
   "source": [
    "### MinMax Scaler Output"
   ]
  },
  {
   "cell_type": "code",
   "execution_count": null,
   "metadata": {},
   "outputs": [],
   "source": [
    "mm_scaler = MinMaxScaler()"
   ]
  },
  {
   "cell_type": "code",
   "execution_count": null,
   "metadata": {},
   "outputs": [],
   "source": [
    "X_train_mm_scaled = pd.DataFrame(mm_scaler.fit_transform(X_train),columns = X_train.columns, index = X_train.index)"
   ]
  },
  {
   "cell_type": "code",
   "execution_count": null,
   "metadata": {},
   "outputs": [],
   "source": [
    "X_train_mm_scaled.head()"
   ]
  },
  {
   "cell_type": "code",
   "execution_count": null,
   "metadata": {},
   "outputs": [],
   "source": [
    "X_mm_scaler = mm_scaler.fit(X_train)"
   ]
  },
  {
   "cell_type": "code",
   "execution_count": null,
   "metadata": {},
   "outputs": [],
   "source": [
    "# X test scaler based on X training set\n",
    "X_test_mm_scaled = X_mm_scaler.transform(X_test)"
   ]
  },
  {
   "cell_type": "code",
   "execution_count": null,
   "metadata": {},
   "outputs": [],
   "source": [
    "y_train_mm_scaled = mm_scaler.fit_transform(y_train)"
   ]
  },
  {
   "cell_type": "code",
   "execution_count": null,
   "metadata": {},
   "outputs": [],
   "source": [
    "# y test scaler based on y training set\n",
    "y_mm_scaler = mm_scaler.fit(y_train)"
   ]
  },
  {
   "cell_type": "code",
   "execution_count": null,
   "metadata": {},
   "outputs": [],
   "source": [
    "# y test scaler based on y training set\n",
    "y_test_mm_scaled = y_mm_scaler.transform(y_test)"
   ]
  },
  {
   "cell_type": "code",
   "execution_count": null,
   "metadata": {},
   "outputs": [],
   "source": [
    "lasso = Lasso(alpha=0.0001,normalize=True)\n",
    "# Fit the regressor to the data\n",
    "lasso.fit(X_train_mm_scaled,y_train_mm_scaled)\n",
    "# Compute and print the coefficients\n",
    "lasso_coef = lasso.coef_\n",
    "print(lasso_coef)\n",
    "# Plot the coefficients\n",
    "plt.plot(range(len(X_train_mm_scaled.columns)), lasso_coef)\n",
    "plt.xticks(range(len(X_train_mm_scaled.columns)), X_train_mm_scaled.columns.values, rotation=75)\n",
    "plt.margins(0.01)\n",
    "plt.show()"
   ]
  },
  {
   "cell_type": "code",
   "execution_count": null,
   "metadata": {},
   "outputs": [],
   "source": [
    "columns = X_train_mm_scaled.columns\n",
    "lasso_coef_df = pd.DataFrame(lasso_coef)\n",
    "lasso_coef_df.rename(columns={0:'lasso_coef'}, inplace=True)\n",
    "lasso_coef_df"
   ]
  },
  {
   "cell_type": "code",
   "execution_count": null,
   "metadata": {},
   "outputs": [],
   "source": [
    "lasso_coef_df.index = columns\n",
    "lasso_coef_df['lasso_coef_abs_value'] = abs(lasso_coef_df['lasso_coef'])\n",
    "lasso_coef_df.sort_values(by=['lasso_coef_abs_value'], ascending=False, inplace=True)\n",
    "lasso_coef_df"
   ]
  },
  {
   "cell_type": "code",
   "execution_count": null,
   "metadata": {},
   "outputs": [],
   "source": [
    "def model_score(df, z):\n",
    "    results = {}\n",
    "    for column in df.columns:\n",
    "        y = df[z]\n",
    "        X = df[column].values.reshape(-1,1)\n",
    "        model = LinearRegression()\n",
    "        model.fit(X,y)\n",
    "        result = model.score(X,y, sample_weight=None)\n",
    "        results[column] = result\n",
    "    return results"
   ]
  },
  {
   "cell_type": "markdown",
   "metadata": {},
   "source": [
    "### The following code via https://towardsdatascience.com/ridge-and-lasso-regression-a-complete-guide-with-python-scikit-learn-e20e34bcbf0b"
   ]
  },
  {
   "cell_type": "code",
   "execution_count": 179,
   "metadata": {},
   "outputs": [
    {
     "name": "stdout",
     "output_type": "stream",
     "text": [
      "training score: 0.0\n",
      "test score:  -0.0009938251550856148\n",
      "number of features used:  0\n",
      "training score for alpha=0.01: 0.0\n",
      "test score for alpha =0.01:  -0.0009938251550856148\n",
      "number of features used: for alpha =0.01: 0\n",
      "training score for alpha=0.0001: 0.022336135054120243\n",
      "test score for alpha =0.0001:  0.030845770875740697\n",
      "number of features used: for alpha =0.0001: 12\n"
     ]
    },
    {
     "data": {
      "image/png": "[encoded data removed]",
      "text/plain": [
       "<Figure size 432x288 with 2 Axes>"
      ]
     },
     "metadata": {
      "needs_background": "light"
     },
     "output_type": "display_data"
    }
   ],
   "source": [
    "lasso = Lasso()\n",
    "lasso.fit(X_train_mm_scaled,y_train_mm_scaled)\n",
    "train_score=lasso.score(X_train_mm_scaled,y_train_mm_scaled)\n",
    "test_score=lasso.score(X_test_mm_scaled,y_test_mm_scaled)\n",
    "coeff_used = np.sum(lasso.coef_!=0)\n",
    "print (\"training score:\", train_score)\n",
    "print (\"test score: \", test_score)\n",
    "print (\"number of features used: \", coeff_used)\n",
    "\n",
    "lasso001 = Lasso(alpha=0.01, max_iter=10e5)\n",
    "lasso001.fit(X_train_mm_scaled,y_train_mm_scaled)\n",
    "train_score001=lasso001.score(X_train_mm_scaled,y_train_mm_scaled)\n",
    "test_score001=lasso001.score(X_test_mm_scaled,y_test_mm_scaled)\n",
    "coeff_used001 = np.sum(lasso001.coef_!=0)\n",
    "print (\"training score for alpha=0.01:\", train_score001)\n",
    "print (\"test score for alpha =0.01: \", test_score001)\n",
    "print (\"number of features used: for alpha =0.01:\", coeff_used001)\n",
    "lasso000001 = Lasso(alpha=0.00001, max_iter=10e5)\n",
    "lasso000001.fit(X_train_mm_scaled,y_train_mm_scaled)\n",
    "train_score000001=lasso000001.score(X_train_mm_scaled,y_train_mm_scaled)\n",
    "test_score000001=lasso000001.score(X_test_mm_scaled,y_test_mm_scaled)\n",
    "coeff_used000001 = np.sum(lasso000001.coef_!=0)\n",
    "print (\"training score for alpha=0.0001:\", train_score000001) \n",
    "print (\"test score for alpha =0.0001: \", test_score000001)\n",
    "print (\"number of features used: for alpha =0.0001:\", coeff_used000001)\n",
    "\n",
    "#lr = LinearRegression()\n",
    "#lr.fit(X_train_ss_scaled,y_train_ss_scaled)\n",
    "#lr_train_score=lr.score(X_train_ss_scaled,y_train_ss_scaled)\n",
    "#lr_test_score=lr.score(X_test_ss_scaled,y_test_ss_scaled)\n",
    "#print (\"LR training score:\", lr_train_score) \n",
    "#print (\"LR test score: \", lr_test_score)\n",
    "plt.subplot(1,2,1)\n",
    "plt.plot(lasso.coef_,alpha=0.7,linestyle='none',marker='*',markersize=5,color='red',label=r'Lasso; $\\alpha = 1$',zorder=7) # alpha here is for transparency\n",
    "plt.plot(lasso000001.coef_,alpha=0.5,linestyle='none',marker='d',markersize=6,color='blue',label=r'Lasso; $\\alpha = 0.0001$') # alpha here is for transparency\n",
    "\n",
    "plt.xlabel('Coefficient Index',fontsize=16)\n",
    "plt.ylabel('Coefficient Magnitude',fontsize=16)\n",
    "plt.legend(fontsize=10,loc=4)\n",
    "plt.subplot(1,2,2)\n",
    "plt.plot(lasso.coef_,alpha=0.7,linestyle='none',marker='*',markersize=5,color='red',label=r'Lasso; $\\alpha = 1$',zorder=7) # alpha here is for transparency\n",
    "plt.plot(lasso001.coef_,alpha=0.5,linestyle='none',marker='d',markersize=6,color='blue',label=r'Lasso; $\\alpha = 0.01$') # alpha here is for transparency\n",
    "plt.plot(lasso00001.coef_,alpha=0.8,linestyle='none',marker='v',markersize=6,color='black',label=r'Lasso; $\\alpha = 0.00001$') # alpha here is for transparency\n",
    "#plt.plot(lr.coef_,alpha=0.7,linestyle='none',marker='o',markersize=5,color='green',label='Linear Regression',zorder=2)\n",
    "plt.xlabel('Coefficient Index',fontsize=16)\n",
    "plt.ylabel('Coefficient Magnitude',fontsize=16)\n",
    "plt.legend(fontsize=9, loc='best')\n",
    "plt.tight_layout()\n",
    "plt.show()"
   ]
  },
  {
   "cell_type": "markdown",
   "metadata": {},
   "source": [
    "### Std Scaler Output"
   ]
  },
  {
   "cell_type": "code",
   "execution_count": 115,
   "metadata": {},
   "outputs": [],
   "source": [
    "ss_scaler = StandardScaler()"
   ]
  },
  {
   "cell_type": "code",
   "execution_count": 116,
   "metadata": {},
   "outputs": [],
   "source": [
    "X_train_ss_scaled = pd.DataFrame(ss_scaler.fit_transform(X_train),columns = X_train.columns, index = X_train.index)"
   ]
  },
  {
   "cell_type": "code",
   "execution_count": 136,
   "metadata": {},
   "outputs": [],
   "source": [
    "X_ss_scaler = ss_scaler.fit(X_train)"
   ]
  },
  {
   "cell_type": "code",
   "execution_count": 137,
   "metadata": {},
   "outputs": [],
   "source": [
    "# X test scaler based on X training set\n",
    "X_test_ss_scaled = X_ss_scaler.transform(X_test)"
   ]
  },
  {
   "cell_type": "code",
   "execution_count": 117,
   "metadata": {},
   "outputs": [],
   "source": [
    "y_train_ss_scaled = ss_scaler.fit_transform(y_train)"
   ]
  },
  {
   "cell_type": "code",
   "execution_count": 139,
   "metadata": {},
   "outputs": [],
   "source": [
    "y_ss_scaler = ss_scaler.fit(y_train)"
   ]
  },
  {
   "cell_type": "code",
   "execution_count": 140,
   "metadata": {},
   "outputs": [],
   "source": [
    "# y test scaler based on y training set\n",
    "y_test_ss_scaled = y_ss_scaler.transform(y_test)"
   ]
  },
  {
   "cell_type": "code",
   "execution_count": 135,
   "metadata": {},
   "outputs": [
    {
     "name": "stdout",
     "output_type": "stream",
     "text": [
      "[-0.09135294  0.00677076  0.         -0.         -0.01830966 -0.10795857\n",
      "  0.05111628  0.          0.0974714  -0.02568263  0.07726596  0.2125574 ]\n"
     ]
    },
    {
     "data": {
      "image/png": "[encoded data removed]",
      "text/plain": [
       "<Figure size 432x288 with 1 Axes>"
      ]
     },
     "metadata": {
      "needs_background": "light"
     },
     "output_type": "display_data"
    }
   ],
   "source": [
    "lasso = Lasso(alpha=0.0001,normalize=True)\n",
    "# Fit the regressor to the data\n",
    "lasso.fit(X_train_ss_scaled,y_train_ss_scaled)\n",
    "# Compute and print the coefficients\n",
    "lasso_coef = lasso.coef_\n",
    "print(lasso_coef)\n",
    "# Plot the coefficients\n",
    "plt.plot(range(len(X_train_ss_scaled.columns)), lasso_coef)\n",
    "plt.xticks(range(len(X_train_ss_scaled.columns)), X_train_ss_scaled.columns.values, rotation=75)\n",
    "plt.margins(0.01)\n",
    "plt.show()"
   ]
  },
  {
   "cell_type": "code",
   "execution_count": 178,
   "metadata": {},
   "outputs": [
    {
     "name": "stdout",
     "output_type": "stream",
     "text": [
      "training score: 0.0\n",
      "test score:  -0.0009938251550858368\n",
      "number of features used:  0\n",
      "training score for alpha=0.01: 0.01479537655441665\n",
      "test score for alpha =0.01:  0.03533220060401154\n",
      "number of features used: for alpha =0.01: 4\n",
      "training score for alpha=0.0001: 0.02243891565289091\n",
      "test score for alpha =0.0001:  0.030164170437724014\n",
      "number of features used: for alpha =0.0001: 12\n"
     ]
    },
    {
     "data": {
      "image/png": "[encoded data removed]",
      "text/plain": [
       "<Figure size 432x288 with 2 Axes>"
      ]
     },
     "metadata": {
      "needs_background": "light"
     },
     "output_type": "display_data"
    }
   ],
   "source": [
    "lasso = Lasso()\n",
    "lasso.fit(X_train_ss_scaled,y_train_ss_scaled)\n",
    "train_score=lasso.score(X_train_ss_scaled,y_train_ss_scaled)\n",
    "test_score=lasso.score(X_test_ss_scaled,y_test_ss_scaled)\n",
    "coeff_used = np.sum(lasso.coef_!=0)\n",
    "print (\"training score:\", train_score)\n",
    "print (\"test score: \", test_score)\n",
    "print (\"number of features used: \", coeff_used)\n",
    "\n",
    "lasso001 = Lasso(alpha=0.01, max_iter=10e5)\n",
    "lasso001.fit(X_train_ss_scaled,y_train_ss_scaled)\n",
    "train_score001=lasso001.score(X_train_ss_scaled,y_train_ss_scaled)\n",
    "test_score001=lasso001.score(X_test_ss_scaled,y_test_ss_scaled)\n",
    "coeff_used001 = np.sum(lasso001.coef_!=0)\n",
    "print (\"training score for alpha=0.01:\", train_score001)\n",
    "print (\"test score for alpha =0.01: \", test_score001)\n",
    "print (\"number of features used: for alpha =0.01:\", coeff_used001)\n",
    "lasso00001 = Lasso(alpha=0.0001, max_iter=10e5)\n",
    "lasso00001.fit(X_train_ss_scaled,y_train_ss_scaled)\n",
    "train_score00001=lasso00001.score(X_train_ss_scaled,y_train_ss_scaled)\n",
    "test_score00001=lasso00001.score(X_test_ss_scaled,y_test_ss_scaled)\n",
    "coeff_used00001 = np.sum(lasso00001.coef_!=0)\n",
    "print (\"training score for alpha=0.0001:\", train_score00001) \n",
    "print (\"test score for alpha =0.0001: \", test_score00001)\n",
    "print (\"number of features used: for alpha =0.0001:\", coeff_used00001)\n",
    "#lr = LinearRegression()\n",
    "#lr.fit(X_train_ss_scaled,y_train_ss_scaled)\n",
    "#lr_train_score=lr.score(X_train_ss_scaled,y_train_ss_scaled)\n",
    "#lr_test_score=lr.score(X_test_ss_scaled,y_test_ss_scaled)\n",
    "#print (\"LR training score:\", lr_train_score) \n",
    "#print (\"LR test score: \", lr_test_score)\n",
    "plt.subplot(1,2,1)\n",
    "plt.plot(lasso.coef_,alpha=0.7,linestyle='none',marker='*',markersize=5,color='red',label=r'Lasso; $\\alpha = 1$',zorder=7) # alpha here is for transparency\n",
    "plt.plot(lasso00001.coef_,alpha=0.5,linestyle='none',marker='d',markersize=6,color='blue',label=r'Lasso; $\\alpha = 0.01$') # alpha here is for transparency\n",
    "plt.xlabel('Coefficient Index',fontsize=16)\n",
    "plt.ylabel('Coefficient Magnitude',fontsize=16)\n",
    "plt.legend(fontsize=10,loc=4)\n",
    "plt.subplot(1,2,2)\n",
    "plt.plot(lasso.coef_,alpha=0.7,linestyle='none',marker='*',markersize=5,color='red',label=r'Lasso; $\\alpha = 1$',zorder=7) # alpha here is for transparency\n",
    "plt.plot(lasso001.coef_,alpha=0.5,linestyle='none',marker='d',markersize=6,color='blue',label=r'Lasso; $\\alpha = 0.01$') # alpha here is for transparency\n",
    "plt.plot(lasso00001.coef_,alpha=0.8,linestyle='none',marker='v',markersize=6,color='black',label=r'Lasso; $\\alpha = 0.0001$') # alpha here is for transparency\n",
    "#plt.plot(lr.coef_,alpha=0.7,linestyle='none',marker='o',markersize=5,color='green',label='Linear Regression',zorder=2)\n",
    "plt.xlabel('Coefficient Index',fontsize=16)\n",
    "plt.ylabel('Coefficient Magnitude',fontsize=16)\n",
    "plt.legend(fontsize=9,loc='best')\n",
    "plt.tight_layout()\n",
    "plt.show()"
   ]
  },
  {
   "cell_type": "code",
   "execution_count": null,
   "metadata": {},
   "outputs": [],
   "source": []
  }
 ],
 "metadata": {
  "kernelspec": {
   "display_name": "Python 3",
   "language": "python",
   "name": "python3"
  },
  "language_info": {
   "codemirror_mode": {
    "name": "ipython",
    "version": 3
   },
   "file_extension": ".py",
   "mimetype": "text/x-python",
   "name": "python",
   "nbconvert_exporter": "python",
   "pygments_lexer": "ipython3",
   "version": "3.7.7"
  }
 },
 "nbformat": 4,
 "nbformat_minor": 4
}
