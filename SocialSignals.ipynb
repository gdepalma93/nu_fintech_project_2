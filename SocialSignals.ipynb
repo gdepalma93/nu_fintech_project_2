{
 "cells": [
  {
   "cell_type": "code",
   "execution_count": 1,
   "metadata": {},
   "outputs": [],
   "source": [
    "import requests\n",
    "import matplotlib.pyplot as plt\n",
    "import pandas as pd\n",
    "import datetime\n",
    "import numpy as np"
   ]
  },
  {
   "cell_type": "code",
   "execution_count": 2,
   "metadata": {},
   "outputs": [],
   "source": [
    "def get_social(symbol):\n",
    "    url = \"https://min-api.cryptocompare.com/data/social/coin/histo/day?api_key=015b242e7bed3700ca69182009d5c7af87bf6b83f7c5a0e12eb5a9b01bee3fb0&limit=2000&fsym=\" + symbol\n",
    "    data = requests.get(url).json()[('Data')]\n",
    "    df = pd.DataFrame(data)\n",
    "    \n",
    "    price_url = 'https://min-api.cryptocompare.com/data/v2/histoday?tsym=USD&limit=2000&api_key=015b242e7bed3700ca69182009d5c7af87bf6b83f7c5a0e12eb5a9b01bee3fb0&fsym=' + symbol\n",
    "    histo_data = requests.get(price_url).json()[\"Data\"][\"Data\"]\n",
    "    \n",
    "    df_price = pd.DataFrame(histo_data)\n",
    "    \n",
    "    combined = df.set_index('time').join(df_price.set_index('time'), on='time')\n",
    "    return combined"
   ]
  },
  {
   "cell_type": "code",
   "execution_count": 3,
   "metadata": {},
   "outputs": [],
   "source": [
    "social_df = get_social('BTC')\n",
    "social_df.reset_index(inplace = True)\n",
    "social_df['time'] = pd.to_datetime(social_df['time'], unit = 's')\n",
    "social_df.set_index(\"time\", drop=True, inplace=True)\n",
    "social_df = social_df[826:-1]\n",
    "social_df = social_df.drop(columns=['high', 'low', 'open', 'volumefrom', 'volumeto', 'conversionType', 'conversionSymbol', 'close', 'analysis_page_views', 'charts_page_views', 'code_repo_closed_issues', 'code_repo_closed_pull_issues', 'code_repo_contributors', 'code_repo_forks', 'code_repo_open_issues', 'code_repo_open_pull_issues', 'code_repo_stars', 'code_repo_subscribers', 'comments', 'fb_likes', 'fb_talking_about', 'followers', 'forum_page_views', 'influence_page_views', 'markets_page_views',\n",
    "       'overview_page_views', 'points', 'posts', 'reddit_subscribers', 'total_page_views', 'trades_page_views', 'twitter_favourites', 'twitter_following', 'twitter_lists'])\n",
    "social_df['reddit_active_users_incr'] = social_df.reddit_active_users.pct_change()\n",
    "social_df['reddit_comments_hr_inc'] = social_df.reddit_comments_per_hour.pct_change()\n",
    "social_df['reddit_comments_day_inc'] = social_df.reddit_comments_per_day.pct_change()\n",
    "social_df['reddit_posts_day_inc'] = social_df.reddit_posts_per_day.pct_change()\n",
    "social_df['reddit_posts_hour_inc'] = social_df.reddit_posts_per_hour.pct_change()\n",
    "social_df['twitter_followers_incr'] = social_df.twitter_followers.pct_change()\n",
    "social_df['twitter_statuses_incr'] = social_df.twitter_statuses.pct_change()\n",
    "#social_df = social_df.drop(columns=['reddit_active_users', 'twitter_followers', 'twitter_statuses', 'reddit_comments_per_day', 'reddit_comments_per_hour', 'reddit_posts_per_day', 'reddit_posts_per_hour']"
   ]
  },
  {
   "cell_type": "code",
   "execution_count": 4,
   "metadata": {},
   "outputs": [],
   "source": [
    "#social_df['reddit_active_users_incr'] = social_df.reddit_active_users.pct_change()"
   ]
  },
  {
   "cell_type": "code",
   "execution_count": 5,
   "metadata": {},
   "outputs": [],
   "source": [
    "#social_df['twitter_followers_incr'] = social_df.twitter_followers.pct_change()"
   ]
  },
  {
   "cell_type": "code",
   "execution_count": 6,
   "metadata": {},
   "outputs": [],
   "source": [
    "#social_df['twitter_statuses_incr'] = social_df.twitter_statuses.pct_change()"
   ]
  },
  {
   "cell_type": "code",
   "execution_count": 7,
   "metadata": {},
   "outputs": [],
   "source": [
    "#social_df.head()"
   ]
  },
  {
   "cell_type": "code",
   "execution_count": null,
   "metadata": {},
   "outputs": [],
   "source": []
  }
 ],
 "metadata": {
  "kernelspec": {
   "display_name": "Python 3",
   "language": "python",
   "name": "python3"
  },
  "language_info": {
   "codemirror_mode": {
    "name": "ipython",
    "version": 3
   },
   "file_extension": ".py",
   "mimetype": "text/x-python",
   "name": "python",
   "nbconvert_exporter": "python",
   "pygments_lexer": "ipython3",
   "version": "3.7.7"
  }
 },
 "nbformat": 4,
 "nbformat_minor": 4
}
