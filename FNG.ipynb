{
 "cells": [
  {
   "cell_type": "code",
   "execution_count": 5,
   "metadata": {},
   "outputs": [],
   "source": [
    "import requests\n",
    "import matplotlib.pyplot as plt\n",
    "import pandas as pd\n",
    "import datetime\n",
    "import numpy as np"
   ]
  },
  {
   "cell_type": "markdown",
   "metadata": {},
   "source": [
    "API: https://api.alternative.me/\n",
    "Endpoint: /fng/\n",
    "Method: GET\n",
    "Description: Get the latest data of the Fear and Greed Index.\n",
    "Optional Parameters:\n",
    "limit, [int]: Limit the number of returned results. The default value is '1', use '0' for all available data. Please note that the field \"time_until_update\" will only be returned for the latest value ( in other words: when the value '1' is used).\n",
    "format, [string]: Choose to either receive the data part formatted as regular JSON or formatted as CSV for easy pasting in spreadsheets, use either 'json' or 'csv' respectively. The default is 'json'.\n",
    "date_format, [string]: Choose to either receive the date part formatted for the United States (MM/DD/YYYY), for China and Korea (YYYY/MM/DD) or for the rest of the world (DD/MM/YYYY). Use 'us', 'cn', 'kr' or 'world' respectively. The default is an empty string which will return the date in unixtime, unless format is set to 'csv'. When \"format\" is set to 'csv' the default \"date_format\" is 'world'."
   ]
  },
  {
   "cell_type": "code",
   "execution_count": 6,
   "metadata": {},
   "outputs": [],
   "source": [
    "fng_df = pd.DataFrame(requests.get(\"https://api.alternative.me/fng/?limit=0\").json()['data'])\n",
    "fng_df['time'] = pd.to_datetime(fng_df['timestamp'], unit = 's')\n",
    "fng_df.set_index(\"time\", drop=True, inplace=True)\n",
    "fng_df.sort_index(axis=0, ascending=True, inplace=True)\n",
    "fng_df.drop(columns=['time_until_update', 'timestamp', 'value_classification'], inplace = True)\n",
    "fng_df.columns = ['fng_value']\n",
    "fng_df[\"fng_value\"] = pd.to_numeric(fng_df[\"fng_value\"], downcast=\"float\")\n",
    "fng_df['fng_value_1d']=fng_df['fng_value'].pct_change()\n",
    "fng_df['fng_value_3d']=fng_df['fng_value'].pct_change(3)\n",
    "fng_df['fng_value_7d']=fng_df['fng_value'].pct_change(7)\n",
    "fng_df['fng_value_sma3_1d'] = fng_df.fng_value_1d.rolling(window=3).mean()\n",
    "fng_df['fng_value_sma7_1d'] = fng_df.fng_value_1d.rolling(window=7).mean()\n",
    "fng_df.dropna(inplace=True)"
   ]
  },
  {
   "cell_type": "code",
   "execution_count": 14,
   "metadata": {},
   "outputs": [],
   "source": [
    "#url = \"https://api.alternative.me/fng/?limit=0\" "
   ]
  },
  {
   "cell_type": "code",
   "execution_count": 15,
   "metadata": {},
   "outputs": [],
   "source": [
    "#data = requests.get(url).json()['data']"
   ]
  },
  {
   "cell_type": "code",
   "execution_count": 16,
   "metadata": {},
   "outputs": [],
   "source": [
    "#df = pd.DataFrame(data)"
   ]
  },
  {
   "cell_type": "code",
   "execution_count": 2,
   "metadata": {},
   "outputs": [],
   "source": [
    "#df['timestamp'] = pd.to_datetime(df['timestamp'], unit = 's')"
   ]
  },
  {
   "cell_type": "code",
   "execution_count": 3,
   "metadata": {},
   "outputs": [],
   "source": [
    "#df.set_index(\"timestamp\", drop=True, inplace=True)"
   ]
  },
  {
   "cell_type": "code",
   "execution_count": 4,
   "metadata": {},
   "outputs": [],
   "source": [
    "#df.drop(columns=['time_until_update'], inplace = True)"
   ]
  },
  {
   "cell_type": "code",
   "execution_count": null,
   "metadata": {},
   "outputs": [],
   "source": []
  }
 ],
 "metadata": {
  "kernelspec": {
   "display_name": "Python 3",
   "language": "python",
   "name": "python3"
  },
  "language_info": {
   "codemirror_mode": {
    "name": "ipython",
    "version": 3
   },
   "file_extension": ".py",
   "mimetype": "text/x-python",
   "name": "python",
   "nbconvert_exporter": "python",
   "pygments_lexer": "ipython3",
   "version": "3.7.7"
  }
 },
 "nbformat": 4,
 "nbformat_minor": 4
}
